{
 "cells": [
  {
   "cell_type": "markdown",
   "id": "5de1c1e4-5f1a-46ca-b226-b568f342ca96",
   "metadata": {},
   "source": [
    "### Load the overlay into the FPGA and program the oscillators on the board to produce the appropriate clock signals. \n",
    "The LMK and LMX files were taken from https://github.com/Xilinx/RFSoC-PYNQ/tree/master/boards/RFSoC4x2/packages/tics/tics/register_txts"
   ]
  },
  {
   "cell_type": "code",
   "execution_count": null,
   "id": "a870a798-cb61-46a0-92dd-d3c8fca9c894",
   "metadata": {},
   "outputs": [],
   "source": [
    "from pynq import Overlay\n",
    "import xrfclk\n",
    "ol = Overlay(\"./package/myDDS.bit\") #Load the FPGA bit file \n",
    "xrfclk.set_ref_clks(lmk_freq = 245.76,lmx_freq = 491.52) #Programs the oscillators on the board to produce the appropriate clock signals"
   ]
  },
  {
   "cell_type": "code",
   "execution_count": null,
   "id": "c63b53f5-4e08-455a-a8de-e0c746b70716",
   "metadata": {},
   "outputs": [],
   "source": [
    "from pynq.lib import AxiGPIO\n",
    "\n",
    "N_instance = ol.ip_dict['N_ACTUAL']\n",
    "N_port = AxiGPIO(N_instance).channel1\n",
    "N_port.setdirection(\"out\")"
   ]
  },
  {
   "cell_type": "markdown",
   "id": "973cb380-1c76-4bf0-8b15-4ce9ba73a834",
   "metadata": {},
   "source": [
    "### This is the sequence in which data in the AXI-GPIOs are written to load the waveform onto the memory of the FPGA"
   ]
  },
  {
   "cell_type": "code",
   "execution_count": null,
   "id": "63221947-9490-4cd3-a9db-5abc87caa6e0",
   "metadata": {},
   "outputs": [],
   "source": [
    "import time\n",
    "start = time.time()\n",
    "N_actual = 2**14\n",
    "N_port.write(int(N_actual),0xffffffff)\n",
    "\n",
    "#data_in_port[0:16].write(0)\n"
   ]
  }
 ],
 "metadata": {
  "kernelspec": {
   "display_name": "Python 3 (ipykernel)",
   "language": "python",
   "name": "python3"
  },
  "language_info": {
   "codemirror_mode": {
    "name": "ipython",
    "version": 3
   },
   "file_extension": ".py",
   "mimetype": "text/x-python",
   "name": "python",
   "nbconvert_exporter": "python",
   "pygments_lexer": "ipython3",
   "version": "3.9.18"
  }
 },
 "nbformat": 4,
 "nbformat_minor": 5
}
