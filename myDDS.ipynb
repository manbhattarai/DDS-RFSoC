{
 "cells": [
  {
   "cell_type": "markdown",
   "id": "5de1c1e4-5f1a-46ca-b226-b568f342ca96",
   "metadata": {},
   "source": [
    "### Load the overlay into the FPGA and program the oscillators on the board to produce the appropriate clock signals. \n",
    "The LMK and LMX files were taken from https://github.com/Xilinx/RFSoC-PYNQ/tree/master/boards/RFSoC4x2/packages/tics/tics/register_txts"
   ]
  },
  {
   "cell_type": "code",
   "execution_count": null,
   "id": "a870a798-cb61-46a0-92dd-d3c8fca9c894",
   "metadata": {},
   "outputs": [],
   "source": [
    "from pynq import Overlay\n",
    "import xrfclk\n",
    "ol = Overlay(\"./package/myDDS.bit\") #Load the FPGA bit file \n",
    "xrfclk.set_ref_clks(lmk_freq = 245.76,lmx_freq = 491.52) #Programs the oscillators on the board to produce the appropriate clock signals"
   ]
  },
  {
   "cell_type": "code",
   "execution_count": null,
   "id": "c63b53f5-4e08-455a-a8de-e0c746b70716",
   "metadata": {},
   "outputs": [],
   "source": [
    "from pynq.lib import AxiGPIO\n",
    "\n",
    "N_instance = ol.ip_dict['N_ACTUAL']\n",
    "N_port = AxiGPIO(N_instance).channel1\n",
    "N_port.setdirection(\"out\")"
   ]
  },
  {
   "cell_type": "markdown",
   "id": "973cb380-1c76-4bf0-8b15-4ce9ba73a834",
   "metadata": {},
   "source": [
    "### Sending the desired frequency through AXI-GPIOs port\n",
    "\n",
    "\n",
    "$$f_{desired} = \\dfrac{N_{actual}}{2^{32}} f_{clk}$$"
   ]
  },
  {
   "cell_type": "code",
   "execution_count": null,
   "id": "f6837276",
   "metadata": {},
   "outputs": [],
   "source": [
    "f_clk = 6881.28 #MHz"
   ]
  },
  {
   "cell_type": "code",
   "execution_count": null,
   "id": "63221947-9490-4cd3-a9db-5abc87caa6e0",
   "metadata": {},
   "outputs": [],
   "source": [
    "f= 2000 #MHz\n",
    "N_actual = int(f/f_clk*2**32)\n",
    "N_port.write(N_actual,0xffffffff)\n"
   ]
  }
 ],
 "metadata": {
  "kernelspec": {
   "display_name": "Python 3 (ipykernel)",
   "language": "python",
   "name": "python3"
  },
  "language_info": {
   "codemirror_mode": {
    "name": "ipython",
    "version": 3
   },
   "file_extension": ".py",
   "mimetype": "text/x-python",
   "name": "python",
   "nbconvert_exporter": "python",
   "pygments_lexer": "ipython3",
   "version": "3.11.7"
  }
 },
 "nbformat": 4,
 "nbformat_minor": 5
}
